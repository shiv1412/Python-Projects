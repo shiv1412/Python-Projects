{
 "cells": [
  {
   "cell_type": "code",
   "execution_count": 1,
   "metadata": {},
   "outputs": [
    {
     "name": "stderr",
     "output_type": "stream",
     "text": [
      "Using TensorFlow backend.\n"
     ]
    }
   ],
   "source": [
    "# importing libraries\n",
    "import pandas as pd\n",
    "import numpy as np\n",
    "from sklearn.feature_extraction.text import CountVectorizer\n",
    "import sklearn\n",
    "from sklearn.model_selection import train_test_split\n",
    "from sklearn.naive_bayes import MultinomialNB\n",
    "from keras.preprocessing.text import Tokenizer\n",
    "from tokenizer import tokenizer\n",
    "from nltk.tokenize import RegexpTokenizer\n",
    "import nltk"
   ]
  },
  {
   "cell_type": "code",
   "execution_count": 2,
   "metadata": {},
   "outputs": [
    {
     "data": {
      "text/html": [
       "<div>\n",
       "<style scoped>\n",
       "    .dataframe tbody tr th:only-of-type {\n",
       "        vertical-align: middle;\n",
       "    }\n",
       "\n",
       "    .dataframe tbody tr th {\n",
       "        vertical-align: top;\n",
       "    }\n",
       "\n",
       "    .dataframe thead th {\n",
       "        text-align: right;\n",
       "    }\n",
       "</style>\n",
       "<table border=\"1\" class=\"dataframe\">\n",
       "  <thead>\n",
       "    <tr style=\"text-align: right;\">\n",
       "      <th></th>\n",
       "      <th>sentence</th>\n",
       "      <th>class</th>\n",
       "    </tr>\n",
       "  </thead>\n",
       "  <tbody>\n",
       "    <tr>\n",
       "      <th>0</th>\n",
       "      <td>Your limitation its only your imagination</td>\n",
       "      <td>Inspiring</td>\n",
       "    </tr>\n",
       "    <tr>\n",
       "      <th>1</th>\n",
       "      <td>Push yourself because no one else is going to ...</td>\n",
       "      <td>Inspiring</td>\n",
       "    </tr>\n",
       "    <tr>\n",
       "      <th>2</th>\n",
       "      <td>Sometimes later becomes never do it now</td>\n",
       "      <td>Inspiring</td>\n",
       "    </tr>\n",
       "    <tr>\n",
       "      <th>3</th>\n",
       "      <td>Great things never come from comfort zones</td>\n",
       "      <td>Inspiring</td>\n",
       "    </tr>\n",
       "    <tr>\n",
       "      <th>4</th>\n",
       "      <td>Its great to be yourself</td>\n",
       "      <td>Dull</td>\n",
       "    </tr>\n",
       "    <tr>\n",
       "      <th>5</th>\n",
       "      <td>A goal is a dream with a plan</td>\n",
       "      <td>Dull</td>\n",
       "    </tr>\n",
       "  </tbody>\n",
       "</table>\n",
       "</div>"
      ],
      "text/plain": [
       "                                            sentence      class\n",
       "0          Your limitation its only your imagination  Inspiring\n",
       "1  Push yourself because no one else is going to ...  Inspiring\n",
       "2            Sometimes later becomes never do it now  Inspiring\n",
       "3         Great things never come from comfort zones  Inspiring\n",
       "4                           Its great to be yourself       Dull\n",
       "5                      A goal is a dream with a plan       Dull"
      ]
     },
     "execution_count": 2,
     "metadata": {},
     "output_type": "execute_result"
    }
   ],
   "source": [
    "# creating dataframes for the provided data and reading it\n",
    "colum_headers = ['sentence', 'class']\n",
    "row_values = []\n",
    "\n",
    "row_values = [['Your limitation its only your imagination', 'Inspiring'], \n",
    "        ['Push yourself because no one else is going to do it for you', 'Inspiring'],\n",
    "        ['Sometimes later becomes never do it now', 'Inspiring'],\n",
    "        ['Great things never come from comfort zones', 'Inspiring'],\n",
    "        [\"Its great to be yourself\", 'Dull'],\n",
    "        ['A goal is a dream with a plan', 'Dull']]\n",
    "\n",
    "training_dataset = pd.DataFrame(row_values, columns=colum_headers)\n",
    "training_dataset"
   ]
  },
  {
   "cell_type": "code",
   "execution_count": 3,
   "metadata": {},
   "outputs": [
    {
     "name": "stdout",
     "output_type": "stream",
     "text": [
      "   because  becomes  come  comfort  do  else  for  from  going  great  ...  \\\n",
      "0        0        0     0        0   0     0    0     0      0      0  ...   \n",
      "1        1        0     0        0   1     1    1     0      1      0  ...   \n",
      "2        0        1     0        0   1     0    0     0      0      0  ...   \n",
      "3        0        0     1        1   0     0    0     1      0      1  ...   \n",
      "\n",
      "   one  only  push  sometimes  things  to  you  your  yourself  zones  \n",
      "0    0     1     0          0       0   0    0     2         0      0  \n",
      "1    1     0     1          0       0   1    1     0         1      0  \n",
      "2    0     0     0          1       0   0    0     0         0      0  \n",
      "3    0     0     0          0       1   0    0     0         0      1  \n",
      "\n",
      "[4 rows x 29 columns]\n"
     ]
    }
   ],
   "source": [
    "# interatiing over the sentences and creating vectors for \n",
    "#the words for categorizing the data as inspiring\n",
    "inspiring_document = [row_values['sentence'] for index,row_values in training_dataset.iterrows() if row_values['class'] == 'Inspiring']\n",
    "vector_for_inspiring = CountVectorizer()\n",
    "X_inspiring = vector_for_inspiring.fit_transform(inspiring_document)\n",
    "term_document_matrix_inspiring = pd.DataFrame(X_inspiring.toarray(), columns=vector_for_inspiring.get_feature_names())\n",
    "print(term_document_matrix_inspiring)\n"
   ]
  },
  {
   "cell_type": "code",
   "execution_count": 15,
   "metadata": {},
   "outputs": [
    {
     "name": "stdout",
     "output_type": "stream",
     "text": [
      "   be  dream  goal  great  is  its  plan  to  with  yourself\n",
      "0   1      0     0      1   0    1     0   1     0         1\n",
      "1   0      1     1      0   1    0     1   0     1         0\n"
     ]
    }
   ],
   "source": [
    "# interatiing over the sentences and creating vectors for \n",
    "#the words for categorizing the data as dull\n",
    "dull_document = [row_values['sentence'] for index,row_values in training_dataset.iterrows() if row_values['class'] == 'Dull']\n",
    "vector_for_dull = CountVectorizer()\n",
    "X_dull = vector_for_dull.fit_transform(dull_document)\n",
    "term_document_matrix_dull = pd.DataFrame(X_dull.toarray(), columns=vector_for_dull.get_feature_names())\n",
    "print(term_document_matrix_dull)"
   ]
  },
  {
   "cell_type": "code",
   "execution_count": 5,
   "metadata": {},
   "outputs": [
    {
     "data": {
      "text/plain": [
       "{'because': 1,\n",
       " 'becomes': 1,\n",
       " 'come': 1,\n",
       " 'comfort': 1,\n",
       " 'do': 2,\n",
       " 'else': 1,\n",
       " 'for': 1,\n",
       " 'from': 1,\n",
       " 'going': 1,\n",
       " 'great': 1,\n",
       " 'imagination': 1,\n",
       " 'is': 1,\n",
       " 'it': 2,\n",
       " 'its': 1,\n",
       " 'later': 1,\n",
       " 'limitation': 1,\n",
       " 'never': 2,\n",
       " 'no': 1,\n",
       " 'now': 1,\n",
       " 'one': 1,\n",
       " 'only': 1,\n",
       " 'push': 1,\n",
       " 'sometimes': 1,\n",
       " 'things': 1,\n",
       " 'to': 1,\n",
       " 'you': 1,\n",
       " 'your': 2,\n",
       " 'yourself': 1,\n",
       " 'zones': 1}"
      ]
     },
     "execution_count": 5,
     "metadata": {},
     "output_type": "execute_result"
    }
   ],
   "source": [
    "# creating word wise listing for inspiring class and calculating the frequencies of words\n",
    "word_list_inspiring = vector_for_inspiring.get_feature_names()    \n",
    "count_list_inspiring = X_inspiring.toarray().sum(axis=0) \n",
    "freq_inspiring = dict(zip(word_list_inspiring,count_list_inspiring))\n",
    "freq_inspiring"
   ]
  },
  {
   "cell_type": "code",
   "execution_count": 6,
   "metadata": {},
   "outputs": [
    {
     "data": {
      "text/plain": [
       "{'be': 1,\n",
       " 'dream': 1,\n",
       " 'goal': 1,\n",
       " 'great': 1,\n",
       " 'is': 1,\n",
       " 'its': 1,\n",
       " 'plan': 1,\n",
       " 'to': 1,\n",
       " 'with': 1,\n",
       " 'yourself': 1}"
      ]
     },
     "execution_count": 6,
     "metadata": {},
     "output_type": "execute_result"
    }
   ],
   "source": [
    "# creating word wise listing for dull class and calculating the frequencies of words\n",
    "word_list_dull = vector_for_dull.get_feature_names();    \n",
    "count_list_dull = X_dull.toarray().sum(axis=0) \n",
    "freq_dull = dict(zip(word_list_dull,count_list_dull))\n",
    "freq_dull"
   ]
  },
  {
   "cell_type": "code",
   "execution_count": 7,
   "metadata": {},
   "outputs": [
    {
     "data": {
      "text/plain": [
       "{'because': 0.034482758620689655,\n",
       " 'becomes': 0.034482758620689655,\n",
       " 'come': 0.034482758620689655,\n",
       " 'comfort': 0.034482758620689655,\n",
       " 'do': 0.06896551724137931,\n",
       " 'else': 0.034482758620689655,\n",
       " 'for': 0.034482758620689655,\n",
       " 'from': 0.034482758620689655,\n",
       " 'going': 0.034482758620689655,\n",
       " 'great': 0.034482758620689655,\n",
       " 'imagination': 0.034482758620689655,\n",
       " 'is': 0.034482758620689655,\n",
       " 'it': 0.06896551724137931,\n",
       " 'its': 0.034482758620689655,\n",
       " 'later': 0.034482758620689655,\n",
       " 'limitation': 0.034482758620689655,\n",
       " 'never': 0.06896551724137931,\n",
       " 'no': 0.034482758620689655,\n",
       " 'now': 0.034482758620689655,\n",
       " 'one': 0.034482758620689655,\n",
       " 'only': 0.034482758620689655,\n",
       " 'push': 0.034482758620689655,\n",
       " 'sometimes': 0.034482758620689655,\n",
       " 'things': 0.034482758620689655,\n",
       " 'to': 0.034482758620689655,\n",
       " 'you': 0.034482758620689655,\n",
       " 'your': 0.06896551724137931,\n",
       " 'yourself': 0.034482758620689655,\n",
       " 'zones': 0.034482758620689655}"
      ]
     },
     "execution_count": 7,
     "metadata": {},
     "output_type": "execute_result"
    }
   ],
   "source": [
    "# finding out probablities for each word in  inspiring class\n",
    "prob_insp = []\n",
    "for word,count in zip(word_list_inspiring,count_list_inspiring):\n",
    "    prob_insp.append(count/len(word_list_inspiring))\n",
    "dict(zip(word_list_inspiring,prob_insp))"
   ]
  },
  {
   "cell_type": "code",
   "execution_count": 8,
   "metadata": {},
   "outputs": [
    {
     "data": {
      "text/plain": [
       "{'be': 0.1,\n",
       " 'dream': 0.1,\n",
       " 'goal': 0.1,\n",
       " 'great': 0.1,\n",
       " 'is': 0.1,\n",
       " 'its': 0.1,\n",
       " 'plan': 0.1,\n",
       " 'to': 0.1,\n",
       " 'with': 0.1,\n",
       " 'yourself': 0.1}"
      ]
     },
     "execution_count": 8,
     "metadata": {},
     "output_type": "execute_result"
    }
   ],
   "source": [
    "# finding out probabilites for each word in dull class\n",
    "prob_dull = []\n",
    "for word,count in zip(word_list_dull,count_list_dull):\n",
    "    prob_dull.append(count/len(word_list_dull))\n",
    "dict(zip(word_list_dull,prob_dull))"
   ]
  },
  {
   "cell_type": "code",
   "execution_count": 16,
   "metadata": {},
   "outputs": [
    {
     "name": "stdout",
     "output_type": "stream",
     "text": [
      "['Your limitation its only your imagination', 'Push yourself because no one else is going to do it for you', 'Sometimes later becomes never do it now', 'Great things never come from comfort zones', 'Its great to be yourself', 'A goal is a dream with a plan']\n",
      "  (0, 31)\t2\n",
      "  (0, 18)\t1\n",
      "  (0, 16)\t1\n",
      "  (0, 23)\t1\n",
      "  (0, 13)\t1\n",
      "  (1, 25)\t1\n",
      "  (1, 32)\t1\n",
      "  (1, 1)\t1\n",
      "  (1, 20)\t1\n",
      "  (1, 22)\t1\n",
      "  (1, 7)\t1\n",
      "  (1, 14)\t1\n",
      "  (1, 11)\t1\n",
      "  (1, 28)\t1\n",
      "  (1, 5)\t1\n",
      "  (1, 15)\t1\n",
      "  (1, 8)\t1\n",
      "  (1, 30)\t1\n",
      "  (2, 5)\t1\n",
      "  (2, 15)\t1\n",
      "  (2, 26)\t1\n",
      "  (2, 17)\t1\n",
      "  (2, 2)\t1\n",
      "  (2, 19)\t1\n",
      "  (2, 21)\t1\n",
      "  (3, 19)\t1\n",
      "  (3, 12)\t1\n",
      "  (3, 27)\t1\n",
      "  (3, 3)\t1\n",
      "  (3, 9)\t1\n",
      "  (3, 4)\t1\n",
      "  (3, 33)\t1\n",
      "  (4, 16)\t1\n",
      "  (4, 32)\t1\n",
      "  (4, 28)\t1\n",
      "  (4, 12)\t1\n",
      "  (4, 0)\t1\n",
      "  (5, 14)\t1\n",
      "  (5, 10)\t1\n",
      "  (5, 6)\t1\n",
      "  (5, 29)\t1\n",
      "  (5, 24)\t1\n"
     ]
    }
   ],
   "source": [
    "# creating a document for all rhe sentences in the training dataset\n",
    "document = [row_values['sentence'] for index,row_values in training_dataset.iterrows()]\n",
    "# creating vector for the whole dataset and storing it in a document\n",
    "vector = CountVectorizer()\n",
    "X = vector.fit_transform(document)\n",
    "print(document)\n",
    "print(X)"
   ]
  },
  {
   "cell_type": "code",
   "execution_count": 17,
   "metadata": {},
   "outputs": [
    {
     "name": "stdout",
     "output_type": "stream",
     "text": [
      "34\n",
      "33\n",
      "10\n"
     ]
    }
   ],
   "source": [
    "# caculation of total features for the above vector created\n",
    "total_features = len(vector.get_feature_names())\n",
    "print(total_features)\n",
    "\n",
    "# calculating total count of features for both inspiring and dull\n",
    "total_counts_features_inspiring = count_list_inspiring.sum(axis=0)\n",
    "total_counts_features_dull = count_list_dull.sum(axis=0)\n",
    "print(total_counts_features_inspiring)\n",
    "print(total_counts_features_dull)"
   ]
  },
  {
   "cell_type": "code",
   "execution_count": 24,
   "metadata": {},
   "outputs": [
    {
     "name": "stdout",
     "output_type": "stream",
     "text": [
      "Dream it Wish it Do it\n",
      "['Dream', 'it', 'Wish', 'it', 'Do', 'it']\n"
     ]
    }
   ],
   "source": [
    "# coming to the processing of the sentence to remove punctuation before doing the classification of sentence Dream it.Wish it.Do it. into inspiring/dull\n",
    "from nltk.tokenize import word_tokenize\n",
    "from string import punctuation\n",
    "def strip_punctuation(s):\n",
    "    return ''.join(c for c in s if c not in punctuation)\n",
    "test_sentence = 'Dream it. Wish it. Do it.'\n",
    "new_sentence = strip_punctuation(test_sentence)\n",
    "print (new_sentence)\n",
    "new_word_list = word_tokenize(new_sentence)\n",
    "print(new_word_list)"
   ]
  },
  {
   "cell_type": "code",
   "execution_count": 25,
   "metadata": {},
   "outputs": [
    {
     "name": "stdout",
     "output_type": "stream",
     "text": [
      "{'Dream': 0.014925373134328358, 'it': 0.04477611940298507, 'Wish': 0.014925373134328358, 'Do': 0.014925373134328358}\n"
     ]
    }
   ],
   "source": [
    "# finding out probability of the sentence if it is inspiring by using the frequnecy\n",
    "# calculated on training data set storing them in a dictionary\n",
    "prob_inspiring_new_sentence = []\n",
    "for word in new_word_list:\n",
    "    if word in freq_inspiring.keys():\n",
    "        count = freq_inspiring[word]\n",
    "    else:\n",
    "        count = 0\n",
    "    prob_inspiring_new_sentence.append((count + 1)/(total_counts_features_inspiring + total_features))\n",
    "print(dict(zip(new_word_list,prob_inspiring_new_sentence)))\n"
   ]
  },
  {
   "cell_type": "code",
   "execution_count": 27,
   "metadata": {},
   "outputs": [
    {
     "name": "stdout",
     "output_type": "stream",
     "text": [
      "1.478653203e-07\n"
     ]
    }
   ],
   "source": [
    "# multiplying the probabilities of all the words\n",
    "print(0.0149*0.0447*0.0149*0.0149)"
   ]
  },
  {
   "cell_type": "code",
   "execution_count": 28,
   "metadata": {},
   "outputs": [
    {
     "name": "stdout",
     "output_type": "stream",
     "text": [
      "7.393266015e-08\n"
     ]
    }
   ],
   "source": [
    "# multiplying the probability with the probability of occurance of the category which is 0.5 for each class i.e \n",
    "#either inspiring or dull\n",
    "print(1.478653203e-07*0.5)"
   ]
  },
  {
   "cell_type": "code",
   "execution_count": 26,
   "metadata": {},
   "outputs": [
    {
     "name": "stdout",
     "output_type": "stream",
     "text": [
      "{'Dream': 0.022727272727272728, 'it': 0.022727272727272728, 'Wish': 0.022727272727272728, 'Do': 0.022727272727272728}\n"
     ]
    }
   ],
   "source": [
    "# finding out probability of the sentence if it is dull by using the frequnecy\n",
    "# calculated on training data set storing them in a dictioanry\n",
    "prob_dull_new_sentence = []\n",
    "for word in new_word_list:\n",
    "    if word in freq_dull.keys():\n",
    "        count = freq_dull[word]\n",
    "    else:\n",
    "        count = 0\n",
    "    prob_dull_new_sentence.append((count + 1)/(total_counts_features_dull + total_features))\n",
    "print(dict(zip(new_word_list,prob_dull_new_sentence)))\n"
   ]
  },
  {
   "cell_type": "code",
   "execution_count": 29,
   "metadata": {},
   "outputs": [
    {
     "name": "stdout",
     "output_type": "stream",
     "text": [
      "2.6552378410000006e-05\n"
     ]
    }
   ],
   "source": [
    "print(0.0227*0.0227*0.227*0.227)"
   ]
  },
  {
   "cell_type": "code",
   "execution_count": 30,
   "metadata": {},
   "outputs": [
    {
     "name": "stdout",
     "output_type": "stream",
     "text": [
      "1.3276189205000003e-05\n"
     ]
    }
   ],
   "source": [
    "# multiplying the probability obtained above with the probability of occurance of the category which is 0.5 foreach classi.e \n",
    "#either inspiring or dull\n",
    "print(2.6552378410000006e-05*0.5)"
   ]
  },
  {
   "cell_type": "code",
   "execution_count": null,
   "metadata": {},
   "outputs": [],
   "source": []
  }
 ],
 "metadata": {
  "kernelspec": {
   "display_name": "Python 3",
   "language": "python",
   "name": "python3"
  },
  "language_info": {
   "codemirror_mode": {
    "name": "ipython",
    "version": 3
   },
   "file_extension": ".py",
   "mimetype": "text/x-python",
   "name": "python",
   "nbconvert_exporter": "python",
   "pygments_lexer": "ipython3",
   "version": "3.7.6"
  }
 },
 "nbformat": 4,
 "nbformat_minor": 4
}
