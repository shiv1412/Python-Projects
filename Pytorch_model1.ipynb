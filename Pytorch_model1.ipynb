{
 "cells": [
  {
   "cell_type": "code",
   "execution_count": null,
   "metadata": {},
   "outputs": [],
   "source": [
    "\n",
    "import torch\n",
    "import torchvision\n",
    "from torchvision import transforms,datasets\n",
    "from torchvision.transforms import *\n",
    "from torchvision.datasets import MNIST\n",
    "from torch.utils.data import DataLoader\n",
    "\n",
    "def __getitem__(self, index):\n",
    "    \"\"\"\n",
    "    Args:\n",
    "        index (int): Index\n",
    "    Returns:\n",
    "        tuple: (image, target) where target is index of the target class.\n",
    "    \"\"\"\n",
    "    img, target = self.data[index], self.targets[index]\n",
    "\n",
    "    # doing this so that it is consistent with all other datasets\n",
    "    # to return a PIL Image\n",
    "    img = Image.fromarray(img.numpy(), mode='L')\n",
    "\n",
    "    if self.transform is not None:\n",
    "        img = self.transform(img)\n",
    "\n",
    "    if self.target_transform is not None:\n",
    "        target = self.target_transform(target)\n",
    "\n",
    "    return img, target\n",
    "\n",
    "img = Image.fromarray(img.numpy(), mode='L')\n",
    "\n",
    "if self.transform is not None:\n",
    "    img = self.transform(img)\n",
    "    \n",
    "if self.target_transform is not None:\n",
    "    target = self.target_transform(target)\n",
    "\n",
    "\n",
    "\n",
    "transform_train = Compose([Resize(28, interpolation=2),\n",
    "                           RandomHorizontalFlip(p=0.5),\n",
    "                           ToTensor(),\n",
    "                           Normalize([0.], [1.])])\n",
    "\n",
    "trainset = MNIST(root='./data', train=True, download=True,\n",
    "                 transform=transform_train)\n",
    "trainloader = DataLoader(trainset, batch_size=32, shuffle=True, num_workers=2)\n",
    "print(trainset[0][0].size(), trainset[0][0].min(), trainset[0][0].max())\n"
   ]
  }
 ],
 "metadata": {
  "kernelspec": {
   "display_name": "Python 3",
   "language": "python",
   "name": "python3"
  },
  "language_info": {
   "codemirror_mode": {
    "name": "ipython",
    "version": 3
   },
   "file_extension": ".py",
   "mimetype": "text/x-python",
   "name": "python",
   "nbconvert_exporter": "python",
   "pygments_lexer": "ipython3",
   "version": "3.7.4"
  }
 },
 "nbformat": 4,
 "nbformat_minor": 4
}
